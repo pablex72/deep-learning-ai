{
  "nbformat": 4,
  "nbformat_minor": 0,
  "metadata": {
    "colab": {
      "provenance": [],
      "authorship_tag": "ABX9TyOTdWXM8jZIxn4qthB1eUCf",
      "include_colab_link": true
    },
    "kernelspec": {
      "name": "python3",
      "display_name": "Python 3"
    },
    "language_info": {
      "name": "python"
    }
  },
  "cells": [
    {
      "cell_type": "markdown",
      "metadata": {
        "id": "view-in-github",
        "colab_type": "text"
      },
      "source": [
        "<a href=\"https://colab.research.google.com/github/pablex72/deep-learning-ai/blob/main/python_numpy_vectors_demo.ipynb\" target=\"_parent\"><img src=\"https://colab.research.google.com/assets/colab-badge.svg\" alt=\"Open In Colab\"/></a>"
      ]
    },
    {
      "cell_type": "code",
      "execution_count": 1,
      "metadata": {
        "id": "Xsw57KBouw33"
      },
      "outputs": [],
      "source": [
        "import numpy as np"
      ]
    },
    {
      "cell_type": "code",
      "source": [
        "a = np.random.rand(5)"
      ],
      "metadata": {
        "id": "DT9jC__2u8Lq"
      },
      "execution_count": 2,
      "outputs": []
    },
    {
      "cell_type": "code",
      "source": [
        "print(a)"
      ],
      "metadata": {
        "colab": {
          "base_uri": "https://localhost:8080/"
        },
        "id": "9wXAHL9UvBdj",
        "outputId": "da777e05-5612-4580-d713-108d59241488"
      },
      "execution_count": 3,
      "outputs": [
        {
          "output_type": "stream",
          "name": "stdout",
          "text": [
            "[0.99501389 0.13632716 0.51745381 0.86383917 0.19712402]\n"
          ]
        }
      ]
    },
    {
      "cell_type": "code",
      "source": [
        "print(a.shape)"
      ],
      "metadata": {
        "colab": {
          "base_uri": "https://localhost:8080/"
        },
        "id": "CzZTdU9gvENC",
        "outputId": "b17a8c41-562f-45d3-84b8-1b5ccd76331b"
      },
      "execution_count": 4,
      "outputs": [
        {
          "output_type": "stream",
          "name": "stdout",
          "text": [
            "(5,)\n"
          ]
        }
      ]
    },
    {
      "cell_type": "code",
      "source": [
        "print(a.T)"
      ],
      "metadata": {
        "colab": {
          "base_uri": "https://localhost:8080/"
        },
        "id": "AU7UszMsvPgM",
        "outputId": "0dc0d615-fac4-4288-d12d-2832cf5f3bbc"
      },
      "execution_count": 5,
      "outputs": [
        {
          "output_type": "stream",
          "name": "stdout",
          "text": [
            "[0.99501389 0.13632716 0.51745381 0.86383917 0.19712402]\n"
          ]
        }
      ]
    },
    {
      "cell_type": "code",
      "source": [
        "print(np.dot(a,a.T))"
      ],
      "metadata": {
        "colab": {
          "base_uri": "https://localhost:8080/"
        },
        "id": "bfc6Cqv5vTzt",
        "outputId": "5380e008-d527-4a25-9117-dc23c9aa5fda"
      },
      "execution_count": 6,
      "outputs": [
        {
          "output_type": "stream",
          "name": "stdout",
          "text": [
            "2.061472174785915\n"
          ]
        }
      ]
    },
    {
      "cell_type": "code",
      "source": [
        "a = np.random.randn(5,1)\n",
        "a"
      ],
      "metadata": {
        "colab": {
          "base_uri": "https://localhost:8080/"
        },
        "id": "6USiIzrnvki_",
        "outputId": "2b732bff-20af-4c98-a3d2-c44b366ed5af"
      },
      "execution_count": 8,
      "outputs": [
        {
          "output_type": "execute_result",
          "data": {
            "text/plain": [
              "array([[ 0.20320337],\n",
              "       [-0.19594955],\n",
              "       [ 1.02009521],\n",
              "       [-0.39483011],\n",
              "       [ 0.63763831]])"
            ]
          },
          "metadata": {},
          "execution_count": 8
        }
      ]
    },
    {
      "cell_type": "code",
      "source": [
        "a.T"
      ],
      "metadata": {
        "colab": {
          "base_uri": "https://localhost:8080/"
        },
        "id": "ZOpCHByKvsdW",
        "outputId": "f826f685-d196-4dec-aeed-15e92ae81f27"
      },
      "execution_count": 9,
      "outputs": [
        {
          "output_type": "execute_result",
          "data": {
            "text/plain": [
              "array([[ 0.20320337, -0.19594955,  1.02009521, -0.39483011,  0.63763831]])"
            ]
          },
          "metadata": {},
          "execution_count": 9
        }
      ]
    },
    {
      "cell_type": "code",
      "source": [
        "print(np.dot(a,a.T))"
      ],
      "metadata": {
        "colab": {
          "base_uri": "https://localhost:8080/"
        },
        "id": "7wZYdEkjv0bG",
        "outputId": "243c5bc5-9997-4f8c-bc76-0b2978274fc5"
      },
      "execution_count": 10,
      "outputs": [
        {
          "output_type": "stream",
          "name": "stdout",
          "text": [
            "[[ 0.04129161 -0.03981761  0.20728678 -0.08023081  0.12957025]\n",
            " [-0.03981761  0.03839623 -0.1998872   0.07736678 -0.12494494]\n",
            " [ 0.20728678 -0.1998872   1.04059423 -0.4027643   0.65045179]\n",
            " [-0.08023081  0.07736678 -0.4027643   0.15589082 -0.25175881]\n",
            " [ 0.12957025 -0.12494494  0.65045179 -0.25175881  0.40658262]]\n"
          ]
        }
      ]
    }
  ]
}